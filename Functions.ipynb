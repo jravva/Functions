{
  "nbformat": 4,
  "nbformat_minor": 0,
  "metadata": {
    "colab": {
      "provenance": []
    },
    "kernelspec": {
      "name": "python3",
      "display_name": "Python 3"
    },
    "language_info": {
      "name": "python"
    }
  },
  "cells": [
    {
      "cell_type": "code",
      "execution_count": null,
      "metadata": {
        "id": "t4Bs-Oq3UoRu"
      },
      "outputs": [],
      "source": []
    },
    {
      "cell_type": "markdown",
      "source": [
        "Functions: Theoritical Questions"
      ],
      "metadata": {
        "id": "lloR0in1Uz1n"
      }
    },
    {
      "cell_type": "markdown",
      "source": [
        "# 1. What is the difference between a function and a method in Python?\n",
        "Ans:\n",
        "\n",
        "In Python, a function and a method are both callable objects, but they differ in their context and how they are defined and used.\n",
        "Function:\n",
        "\n",
        "A function is a block of code that can be called independently. It is defined using the def keyword, and it can exist outside of any class.\n",
        "Method:\n",
        "\n",
        "A method is a function that is associated with an object. In Python, methods are defined inside a class, and they operate on instances of that class. Methods are typically called using the dot notation on an object or class.\n",
        "Example:\n",
        "Function:\n",
        "\n",
        "# Defining a simple function\n",
        "def greet(name):\n",
        "    return f\"Hello, {name}!\"\n",
        "\n",
        "# Calling the function\n",
        "print(greet(\"Alice\"))\n",
        "\n",
        "Here, greet is a function that takes a parameter name and returns a greeting string. It is not tied to any object or class.\n",
        "Method:\n",
        "\n",
        "class Person:\n",
        "    def __init__(self, name):\n",
        "        self.name = name\n",
        "    \n",
        "    # Method definition\n",
        "    def greet(self):\n",
        "        return f\"Hello, {self.name}!\"\n",
        "\n",
        "# Creating an object of the class\n",
        "person = Person(\"Alice\")\n",
        "\n",
        "# Calling the method\n",
        "print(person.greet())"
      ],
      "metadata": {
        "id": "O6uVMqz6V7Wi"
      }
    },
    {
      "cell_type": "markdown",
      "source": [
        "# 2.  Explain the concept of function arguments and parameters in Python?\n",
        "\n",
        "Ans:\n",
        "\n",
        "1. Function Parameters:\n",
        "\n",
        "Parameters are the names listed in the function definition. They act as placeholders that accept values when the function is called.\n",
        "\n",
        "2. Function Arguments:\n",
        "\n",
        "Arguments are the actual values passed to the function when it is called. They are assigned to the corresponding parameters in the function definition.\n",
        "Example:\n",
        "\n",
        "# Function definition with parameters\n",
        "def greet(name, age):\n",
        "    print(f\"Hello, {name}! You are {age} years old.\")\n",
        "\n",
        "# Function call with arguments\n",
        "greet(\"Alice\", 30)"
      ],
      "metadata": {
        "id": "nGeLHkOyWT2d"
      }
    },
    {
      "cell_type": "markdown",
      "source": [
        "# 3. What are the different ways to define and call a function in Python\n",
        "\n",
        "Ans\n",
        "\n",
        "In Python, functions can be defined and called in several different ways. Here's a breakdown of the various methods for defining and calling functions, with examples.\n",
        "1. Standard Function Definition and Call\n",
        "\n",
        "This is the most common way to define and call a function.\n",
        "Definition:\n",
        "\n",
        "A function is defined using the def keyword followed by the function name and parameters (if any).\n",
        "Call:\n",
        "\n",
        "A function is called by using its name and passing the appropriate arguments.\n",
        "\n",
        "# Function definition\n",
        "def greet(name):\n",
        "    return f\"Hello, {name}!\"\n",
        "\n",
        "# Function call\n",
        "print(greet(\"Alice\"))\n",
        "\n",
        "Output:\n",
        "\n",
        "Hello, Alice!\n",
        "\n",
        "2. Function with Default Arguments\n",
        "\n",
        "A function can have default arguments, which are used if the caller does not provide values for those arguments.\n",
        "Definition:\n",
        "\n",
        "Default values are provided in the function signature.\n",
        "Call:\n",
        "\n",
        "You can either provide values or use the defaults.\n",
        "\n",
        "# Function definition with default argument\n",
        "def greet(name, message=\"Hello\"):\n",
        "    return f\"{message}, {name}!\"\n",
        "\n",
        "# Function calls\n",
        "print(greet(\"Alice\"))  # Uses default message\n",
        "print(greet(\"Bob\", \"Good morning\"))\n",
        "\n",
        "Output:\n",
        "\n",
        "Hello, Alice!\n",
        "Good morning, Bob\n",
        "\n",
        "3. Function with Variable-length Arguments (*args)\n",
        "\n",
        "You can define a function that accepts an arbitrary number of non-keyword arguments using *args.\n",
        "Definition:\n",
        "\n",
        "*args collects positional arguments into a tuple.\n",
        "Call:\n",
        "\n",
        "You can pass as many arguments as needed.\n",
        "\n",
        "# Function with *args\n",
        "def sum_numbers(*args):\n",
        "    return sum(args)\n",
        "\n",
        "# Function call\n",
        "print(sum_numbers(1, 2, 3))  # Output: 6\n",
        "print(sum_numbers(4, 5, 6, 7, 8))  # Output: 30\n",
        "\n",
        "Output:\n",
        "\n",
        "6\n",
        "30\n",
        "\n",
        "4. Function with Keyword Arguments (**kwargs)\n",
        "\n",
        "A function can accept a variable number of keyword arguments using **kwargs.\n",
        "Definition:\n",
        "\n",
        "**kwargs collects keyword arguments into a dictionary.\n",
        "Call:\n",
        "\n",
        "You can pass any number of named arguments.\n",
        "\n",
        "# Function with **kwargs\n",
        "def print_details(**kwargs):\n",
        "    for key, value in kwargs.items():\n",
        "        print(f\"{key}: {value}\")\n",
        "\n",
        "# Function call\n",
        "print_details(name=\"Alice\", age=25, job=\"Engineer\")\n",
        "\n",
        "Output:\n",
        "\n",
        "name: Alice\n",
        "age: 25\n",
        "job: Engineer\n",
        "\n",
        "5. Lambda Function (Anonymous Function)\n",
        "\n",
        "Lambda functions are small anonymous functions defined using the lambda keyword. They are often used for short operations.\n",
        "Definition:\n",
        "\n",
        "A lambda function is defined with the syntax: lambda parameters: expression.\n",
        "Call:\n",
        "\n",
        "Lambda functions are typically called inline.\n",
        "\n",
        "# Lambda function definition and call\n",
        "multiply = lambda x, y: x * y\n",
        "print(multiply(3, 4))\n",
        "\n",
        "Output:\n",
        "\n",
        "12\n",
        "\n",
        "6. Function as an Argument (Higher-Order Function)\n",
        "\n",
        "Functions can be passed as arguments to other functions.\n",
        "Definition:\n",
        "\n",
        "A function is passed as an argument to another function.\n",
        "Call:\n",
        "\n",
        "The passed function is executed within the called function.\n",
        "\n",
        "# Function definition\n",
        "def apply_function(f, x, y):\n",
        "    return f(x, y)\n",
        "\n",
        "# Lambda function passed as an argument\n",
        "print(apply_function(lambda x, y: x + y, 3, 5))\n",
        "\n",
        "Output:\n",
        "\n",
        "8\n",
        "\n",
        "7. Function Defined Inside Another Function (Nested Function)\n",
        "\n",
        "A function can be defined inside another function. This is called a nested function or inner function.\n",
        "Definition:\n",
        "\n",
        "An inner function is defined inside an outer function.\n",
        "Call:\n",
        "\n",
        "The inner function is called within the outer function.\n",
        "\n",
        "# Outer function\n",
        "def outer_function(x):\n",
        "    # Inner function\n",
        "    def inner_function(y):\n",
        "        return y * y\n",
        "    return inner_function(x)\n",
        "\n",
        "# Function call\n",
        "print(outer_function(4))\n",
        "\n",
        "Output:\n",
        "\n",
        "16\n",
        "\n",
        "8. Function with a Return Value\n",
        "\n",
        "A function can return a value, which can then be used when calling the function.\n",
        "Definition:\n",
        "\n",
        "Use the return keyword to return a value.\n",
        "Call:\n",
        "\n",
        "You can use the returned value for further operations.\n",
        "\n",
        "# Function with return value\n",
        "def square(x):\n",
        "    return x * x\n",
        "\n",
        "# Function call and using the return value\n",
        "result = square(6)\n",
        "print(result)  # Output: 36\n",
        "\n",
        "Output:\n",
        "\n",
        "36\n",
        "\n"
      ],
      "metadata": {
        "id": "t3V8bCxEW7eS"
      }
    },
    {
      "cell_type": "markdown",
      "source": [
        "# 4. What is the purpose of the `return` statement in a Python function?\n",
        "\n",
        "Ans:\n",
        "\n",
        "The return statement in a Python function is used to send a result or value back to the caller, and it effectively ends the function's execution. When the return statement is encountered, the function stops executing, and any value specified after return is sent back to the code that called the function. This allows functions to compute and return data to be used elsewhere in the program.\n",
        "Key Purposes of the return statement:\n",
        "\n",
        "    To return a value from a function: The main purpose of the return statement is to return data from the function to the caller.\n",
        "    To exit the function: The return statement immediately terminates the function and passes control back to where the function was called.\n",
        "    To pass values between functions: It allows functions to return data to other parts of your program for further processing.\n",
        "\n",
        "Example 1: Returning a single value\n",
        "\n",
        "In this example, the function add takes two arguments, adds them together, and returns the result.\n",
        "\n",
        "def add(x, y):\n",
        "    return x + y  # Returning the sum of x and y\n",
        "\n",
        "result = add(3, 5)  # Calling the function and capturing the return value\n",
        "print(result)  # Output: 8"
      ],
      "metadata": {
        "id": "4VKVFzQaXmi3"
      }
    },
    {
      "cell_type": "markdown",
      "source": [
        "# 5. What are iterators in Python and how do they differ from iterables?\n",
        "\n",
        "Ans:\n",
        "\n",
        "In Python, an iterator is an object that allows you to iterate over a sequence of values. An iterator provides two core methods: __iter__() which returns the iterator itself, and __next__() which returns the next value from the sequence. When the sequence is exhausted, the __next__() method should raise a StopIteration exception.\n",
        "\n",
        "An iterable, on the other hand, is an object that can return an iterator. An iterable must implement the __iter__() method, which should return an iterator. Common examples of iterables include lists, tuples, sets, and dictionaries.\n",
        "\n",
        "Here's an example to illustrate the difference:\n",
        "\n",
        "# List is an iterable\n",
        "my_list = [1, 2, 3]\n",
        "\n",
        "# Get an iterator from the iterable\n",
        "my_iterator = iter(my_list)\n",
        "\n",
        "# Iterate using the iterator\n",
        "try:\n",
        "    print(next(my_iterator))  # Output: 1\n",
        "    print(next(my_iterator))  # Output: 2\n",
        "    print(next(my_iterator))  # Output: 3\n",
        "    print(next(my_iterator))  # This will raise StopIteration\n",
        "except StopIteration:\n",
        "    print(\"Iteration is finished\")\n",
        "\n",
        "# You can also iterate using a for loop, which internally uses an iterator\n",
        "for item in my_list:\n",
        "    print(item)\n",
        "\n",
        "In this example, the list my_list is an iterable. By using the iter() function, we obtain an iterator my_iterator from it. The iterator allows us to access the elements one by one using the next() function, and it raises a StopIteration exception when there are no more elements to iterate over. The for loop is a more convenient way to iterate over an iterable and it automatically handles the iterator and the StopIteration exception."
      ],
      "metadata": {
        "id": "UXbOkQTpYF4M"
      }
    },
    {
      "cell_type": "markdown",
      "source": [
        "# 6. Explain the concept of generators in Python and how they are defined.\n",
        "\n",
        "Ans:\n",
        "\n",
        "Generators in Python are a type of iterable that allow you to generate a sequence of values on the fly. They are created using a function that contains one or more yield statements instead of a return statement. When the generator function is called, it returns a generator object, but none of the function's code is executed immediately. Instead, the code is executed in response to calls to the generator's __next__() method (or the next() function). Each time yield is encountered, the function outputs a value and pauses, maintaining its state, so that execution can be resumed right after the yield statement when __next__() is called again.\n",
        "\n",
        "This \"lazy evaluation\" approach can be very memory efficient, especially when working with large datasets, since it generates values one at a time rather than computing and storing the entire series in memory.\n",
        "\n",
        "Here's a simple example of a generator function:\n",
        "\n",
        "def countdown(n):\n",
        "    print(\"Starting countdown from\", n)\n",
        "    while n > 0:\n",
        "        yield n\n",
        "        n -= 1\n",
        "\n",
        "# Create a generator object\n",
        "gen = countdown(5)\n",
        "\n",
        "# Iterate over the generator object\n",
        "for number in gen:\n",
        "    print(number)\n",
        "\n",
        "# Output:\n",
        "# Starting countdown from 5\n",
        "# 5\n",
        "# 4\n",
        "# 3\n",
        "# 2\n",
        "# 1\n",
        "\n",
        "In this example, countdown is a generator function that counts down from a given number n to 1. Each time yield n is executed, the current value of n is outputted, and the state of the function (including the value of n) is preserved until the next value is requested.\n",
        "\n",
        "Generators are particularly useful for creating infinite sequences, processing streams of data that might otherwise be too large to fit in memory, or implementing coroutine-based concurrency. The simplicity and efficiency of generator functions make them a powerful feature in Python."
      ],
      "metadata": {
        "id": "SKoiYKpoYg4H"
      }
    },
    {
      "cell_type": "markdown",
      "source": [
        "# 7. What are the advantages of using generators over regular functions?\n",
        "\n",
        "Ans:\n",
        "\n",
        "Generators provide several advantages over regular functions, particularly when dealing with large datasets or complex operations that yield a sequence of results. Here are some of the key benefits of using generators:\n",
        "\n",
        "    Memory Efficiency: Generators allow for the generation of values on the fly and yield one result at a time. This means they do not hold the entire result set in memory, which saves significant memory space especially when dealing with large datasets.\n",
        "\n",
        "    Laziness and Pipeline Processing: Generators compute values on demand, which is useful when the full results may not be required, or when you want to chain operations in a pipeline fashion. This allows for high efficiency in processing pipelines, as no intermediate collections need to be stored in memory.\n",
        "\n",
        "    Simpler Code: In many cases, generators can make code more readable and concise compared to collecting results in a list and returning them all at once.\n",
        "\n",
        "    Flexibility: Generators are very flexible and can be used to model infinite sequences and other data streams that would be impossible or impractical to generate all at once using regular functions.\n",
        "\n",
        "Example: Cumulative Sum Generator vs. Regular Function\n",
        "\n",
        "Regular Function\n",
        "\n",
        "def cumulative_sum(numbers):\n",
        "    result = []\n",
        "    total = 0\n",
        "    for number in numbers:\n",
        "        total += number\n",
        "        result.append(total)\n",
        "    return result\n",
        "\n",
        "# Using regular function\n",
        "numbers = [1, 2, 3, 4, 5]\n",
        "result = cumulative_sum(numbers)\n",
        "print(result)  # Output: [1, 3, 6, 10, 15]\n",
        "\n",
        "Generator Function\n",
        "\n",
        "def cumulative_sum_generator(numbers):\n",
        "    total = 0\n",
        "    for number in numbers:\n",
        "        total += number\n",
        "        yield total\n",
        "\n",
        "# Using generator\n",
        "gen_result = cumulative_sum_generator(numbers)\n",
        "for res in gen_result:\n",
        "    print(res)  # Output: 1, 3, 6, 10, 15\n",
        "\n",
        "Memory Usage and Performance\n",
        "\n",
        "In the generative version (cumulative_sum_generator), memory usage is minimized because only one sum is stored and yielded at a time. This method is especially beneficial when the list numbers is very large or when it is generated dynamically and you want to begin processing results before the entire list is available.\n",
        "\n",
        "Conclusion\n",
        "\n",
        "Generators provide an elegant and powerful approach to managing data streams, processing sequences, and handling iterative computations without the overhead of keeping the entire dataset in memory. This is especially important in large-scale data processing, web crawling, or any scenario where memory and resource management is crucial."
      ],
      "metadata": {
        "id": "X-vNREZrY2oT"
      }
    },
    {
      "cell_type": "markdown",
      "source": [
        "\n",
        "# 8.  What is a lambda function in Python and when is it typically used?\n",
        "\n",
        "\n",
        "Ans:\n",
        "\n",
        "A lambda function in Python is a small anonymous function defined with the keyword lambda. Lambda functions can have any number of arguments but only one expression. They are typically used for short, simple functions that are convenient to define in-line where they are used, often for a single operation or to call another function.\n",
        "\n",
        "Lambda functions are commonly used when you need a simple function for a short period of time and you are interested in reducing the amount of formal lines of code. Situations where this is useful include passing a simple function as an argument to higher-order functions, or quickly defining a function to transform the elements of a list or any iterable.\n",
        "Syntax\n",
        "\n",
        "The syntax of a lambda function is:\n",
        "\n",
        "lambda arguments: expression\n",
        "\n",
        "Example: Using a Lambda with map and filter\n",
        "\n",
        "1. Using map Function\n",
        "The map function applies a given function to each item of an iterable (like a list) and returns a list of the results.\n",
        "\n",
        "# Define a list of numbers\n",
        "numbers = [1, 2, 3, 4, 5]\n",
        "\n",
        "# Use a lambda function to square each number\n",
        "squared_numbers = list(map(lambda x: x ** 2, numbers))\n",
        "\n",
        "print(squared_numbers)  # Output: [1, 4, 9, 16, 25]\n",
        "\n",
        "2. Using filter Function\n",
        "The filter function creates a list of elements for which a function returns true.\n",
        "\n",
        "# Define a list of numbers\n",
        "numbers = [1, 2, 3, 4, 5, 6]\n",
        "\n",
        "# Use a lambda function to filter out even numbers\n",
        "even_numbers = list(filter(lambda x: x % 2 == 0, numbers))\n",
        "\n",
        "print(even_numbers)  # Output: [2, 4, 6]\n",
        "\n",
        "When to Use Lambda Functions\n",
        "\n",
        "Lambda functions are typically used in scenarios where:\n",
        "\n",
        "    You require a simple function that is used only once.\n",
        "    You need to pass a function as an argument to another function (especially common with functions like map, filter, sorted).\n",
        "    You want to reduce the syntactic clutter associated with trivial small-scale functions.\n",
        "\n",
        "Limitations\n",
        "\n",
        "While lambda functions are powerful for simple expressions, they are limited to single expressions and can sometimes make the code less readable, especially for complex operations. In such cases, it's generally better to use regular function definitions for clarity.\n",
        "\n",
        "Lambda functions can greatly simplify the code for short, simple functions, and their popularity in Python code is a testament to their utility and ease of use."
      ],
      "metadata": {
        "id": "v7SLvVZpZOul"
      }
    },
    {
      "cell_type": "markdown",
      "source": [
        "# 9. Explain the purpose and usage of the `map()` function in Python\n",
        "\n",
        "Ans:\n",
        "\n",
        "The map() function in Python is a built-in function that applies a specific function to each item of an iterable (such as a list, tuple, etc.) and returns an iterator that yields the results. It is commonly used to perform operations or apply transformations to the elements of a collection without the need for explicit loops. This can lead to more concise and readable code.\n",
        "Syntax\n",
        "\n",
        "The syntax of the map() function is:\n",
        "\n",
        "map(function, iterable, ...)\n",
        "\n",
        "    function: the function to apply to each item in the iterable.\n",
        "    iterable: the input iterable(s) whose items are to be processed.\n",
        "\n",
        "The function can be any callable that takes as many arguments as there are iterables passed to map(). If additional iterables are provided, function must take that many arguments and is applied to the items from all iterables in parallel.\n",
        "Example: Using map() with a Lambda Function\n",
        "\n",
        "Let's look at an example where map() is used to convert temperatures from Celsius to Fahrenheit:\n",
        "\n",
        "# Define a list of temperatures in Celsius\n",
        "celsius_temperatures = [0, 10, 20, 30, 40]\n",
        "\n",
        "# Define a lambda function to convert Celsius to Fahrenheit\n",
        "convert_to_fahrenheit = lambda c: (c * 9/5) + 32\n",
        "\n",
        "# Use map to apply the lambda function to the list of temperatures\n",
        "fahrenheit_temperatures = map(convert_to_fahrenheit, celsius_temperatures)\n",
        "\n",
        "# Convert the map object to a list to display the results\n",
        "print(list(fahrenheit_temperatures))\n",
        "# Output: [32.0, 50.0, 68.0, 86.0, 104.0]\n",
        "\n",
        "In this example, map() applies the convert_to_fahrenheit lambda function to each element in the celsius_temperatures list. The result is a map object which is an iterator. To visualize the results, we convert this iterator to a list using the list() function.\n",
        "Combining Multiple Iterables\n",
        "\n",
        "map() can be used with multiple iterables. The iterables are consumed in parallel, and the function is applied with arguments taken from these iterables. Here's a simple example using two lists:\n",
        "\n",
        "# Two lists of numbers\n",
        "numbers1 = [1, 2, 3]\n",
        "numbers2 = [4, 5, 6]\n",
        "\n",
        "# Use map to add corresponding elements of the two lists\n",
        "result = map(lambda x, y: x + y, numbers1, numbers2)\n",
        "\n",
        "# Convert result to list and print\n",
        "print(list(result))\n",
        "# Output: [5, 7, 9]\n",
        "\n",
        "Conclusion\n",
        "\n",
        "The map() function offers a Pythonic way to perform transformations and operations across iterables in a concise manner. It is advantageous for readability and can also be beneficial from a performance standpoint in certain contexts. However, for complex transformations, using list comprehensions or loops might be preferred for better clarity.\n"
      ],
      "metadata": {
        "id": "KO76t80xZmta"
      }
    },
    {
      "cell_type": "markdown",
      "source": [
        "# 10.  What is the difference between `map()`, `reduce()`, and `filter()` functions in Python?\n",
        "\n",
        "\n",
        "Ans:\n",
        "\n",
        "In Python, map(), reduce(), and filter() are higher-order functions that operate on iterables in different ways, each returning results according to their unique functionalities. Here’s a detailed look at each function, including their differences and typical use cases:\n",
        "1. map()\n",
        "\n",
        "The map() function applies a given function to each item of an iterable (like a list) and returns an iterator that yields the results. It's typically used for transforming data.\n",
        "\n",
        "Example:\n",
        "\n",
        "# Function to square a number\n",
        "def square(x):\n",
        "    return x ** 2\n",
        "\n",
        "numbers = [1, 2, 3, 4]\n",
        "result = map(square, numbers)\n",
        "print(list(result))  # Output: [1, 4, 9, 16]\n",
        "\n",
        "2. filter()\n",
        "\n",
        "The filter() function constructs an iterator from elements of an iterable for which a function returns true. Essentially, it filters the input iterable, retaining only items that match the condition.\n",
        "\n",
        "Example:\n",
        "\n",
        "# Function to check if a number is even\n",
        "def is_even(x):\n",
        "    return x % 2 == 0\n",
        "\n",
        "numbers = [1, 2, 3, 4, 5, 6]\n",
        "result = filter(is_even, numbers)\n",
        "print(list(result))  # Output: [2, 4, 6]\n",
        "\n",
        "3. reduce()\n",
        "\n",
        "The reduce() function, which is part of the functools module, applies a binary function to the items of an iterable, cumulatively, so as to reduce the iterable to a single value. It's often used for combining all elements of an iterable into a single result.\n",
        "\n",
        "Example:\n",
        "\n",
        "from functools import reduce\n",
        "\n",
        "# Function to add two numbers\n",
        "def add(x, y):\n",
        "    return x + y\n",
        "\n",
        "numbers = [1, 2, 3, 4]\n",
        "result = reduce(add, numbers)\n",
        "print(result)  # Output: 10\n",
        "\n",
        "To summarize:\n",
        "\n",
        "    map() is used for applying a function to each item in an iterable and it returns an iterable with the transformed items.\n",
        "    filter() is used to create a new iterable by filtering out items that do not match a condition specified by a function.\n",
        "    reduce() is used to apply a function to all elements in an iterable, cumulatively, to reduce it to a single cumulative value.\n",
        "\n",
        "Pragmatic Differences and Use Cases:\n",
        "\n",
        "    map() and filter() return iterators, and hence their results need to be converted to a list or other iterable types if you want to use them directly.\n",
        "    reduce() provides a result of a single value, making it distinct in its application to solving problems that require a cumulative approach, such as finding the sum of all elements or the maximum item in a list.\n",
        "    filter() is particularly useful when you need to extract elements from a sequence that meet certain criteria.\n",
        "\n",
        "Choosing between these functions generally depends on the specific requirements of the operation you wish to perform on the iterable.\n"
      ],
      "metadata": {
        "id": "mYX0prfCaDYc"
      }
    },
    {
      "cell_type": "markdown",
      "source": [
        "# 11. . Using pen & Paper write the internal mechanism for sum operation using reduce function on this given\n",
        "list:[47,11,42,13];\n",
        "\n",
        "Ans:\n",
        "\n",
        "To understand the internal mechanism of the reduce() function for performing a sum operation on the list [47, 11, 42, 13], we'll break down each step as it cumulatively applies the addition operation on the list's elements. Here's how it works step-by-step:\n",
        "Step 1: Initialize parameters\n",
        "\n",
        "    List: [47, 11, 42, 13]\n",
        "    Function: add(x, y) which returns x + y\n",
        "\n",
        "Step 2: Apply reduce()\n",
        "\n",
        "The reduce() function will take the first two elements of the list and apply the add() function.\n",
        "\n",
        "Here's a detailed breakdown:\n",
        "\n",
        "    Initial State of the List\n",
        "        Elements: [47, 11, 42, 13]\n",
        "\n",
        "    First Application of add()\n",
        "        Take the first two elements (47 and 11)\n",
        "        Apply add(47, 11) = 58\n",
        "        List now is effectively [58, 42, 13] after the first reduction\n",
        "\n",
        "    Second Application of add()\n",
        "        Take the first two elements of the current state (58 and 42)\n",
        "        Apply add(58, 42) = 100\n",
        "        List now reduces to [100, 13]\n",
        "\n",
        "    Third Application of add()\n",
        "        Take the remaining elements (100 and 13)\n",
        "        Apply add(100, 13) = 113\n",
        "        Now the list is reduced to [113]\n",
        "\n",
        "After the third application, there's only one element left, which is 113. This is the result of the reduce() function applying the add() operation across the list, reducing it to a single cumulative value.\n",
        "Conclusion:\n",
        "\n",
        "The reduce() function simplified the process of summing elements in the list by reducing the list size in each step, using the result of the previous operation combined with the next element in the list. The final result of summing up the list [47, 11, 42, 13] is 113.\n",
        "Actual Python Code:\n",
        "\n",
        "from functools import reduce\n",
        "\n",
        "# Define the add function\n",
        "def add(x, y):\n",
        "    return x + y\n",
        "\n",
        "# List to sum up\n",
        "numbers = [47, 11, 42, 13]\n",
        "\n",
        "# Use reduce to sum up all elements\n",
        "result = reduce(add, numbers)\n",
        "print(result)  # Output: 113\n",
        "\n",
        "This example clearly shows how reduce() functionally collapses a list into a single value using a binary function, applied iteratively to combine all elements of the list into one.\n"
      ],
      "metadata": {
        "id": "j3c5j2kQaVpn"
      }
    },
    {
      "cell_type": "markdown",
      "source": [
        "Functions: Practical Questions:"
      ],
      "metadata": {
        "id": "GbEF3pBQa_k0"
      }
    },
    {
      "cell_type": "code",
      "source": [
        "# 1.  Write a Python function that takes a list of numbers as input and returns the sum of all even numbers in the list.\n",
        "\n",
        "numbers = [1, 2, 3, 4, 5, 6]\n",
        "result = sum_of_even_numbers(numbers)\n",
        "print(result)  # Output: 12 (2 + 4 + 6)\n",
        "\n",
        "\n",
        "\n"
      ],
      "metadata": {
        "colab": {
          "base_uri": "https://localhost:8080/"
        },
        "id": "l8HmjNX2bD6o",
        "outputId": "db8c4d3c-bd83-4db0-ed5e-d4572b1c101b"
      },
      "execution_count": 4,
      "outputs": [
        {
          "output_type": "stream",
          "name": "stdout",
          "text": [
            "12\n"
          ]
        }
      ]
    },
    {
      "cell_type": "code",
      "source": [
        "# 2. Create a Python function that accepts a string and returns the reverse of that string.\n",
        "\n",
        "input_string = \"hello\"\n",
        "reversed_string = reverse_string(input_string)\n",
        "print(reversed_string)  # Output: \"olleh\"\n",
        "\n",
        "\n"
      ],
      "metadata": {
        "colab": {
          "base_uri": "https://localhost:8080/"
        },
        "id": "B4hgByHfcW9n",
        "outputId": "0b1d0b2a-df3d-4227-d11b-91131ba45fd5"
      },
      "execution_count": 7,
      "outputs": [
        {
          "output_type": "stream",
          "name": "stdout",
          "text": [
            "olleh\n"
          ]
        }
      ]
    },
    {
      "cell_type": "code",
      "source": [
        "# 3.  Implement a Python function that takes a list of integers and returns a new list containing the squares of each number.\n",
        "\n",
        "def square_numbers(numbers):\n",
        "    # Use a list comprehension to square each number in the input list\n",
        "    return [num ** 2 for num in numbers]\n",
        "\n",
        "numbers = [1, 2, 3, 4, 5]\n",
        "squared_numbers = square_numbers(numbers)\n",
        "print(squared_numbers)  # Output: [1, 4, 9, 16, 25]\n",
        "\n",
        "\n"
      ],
      "metadata": {
        "colab": {
          "base_uri": "https://localhost:8080/"
        },
        "id": "4dhqrOx5dIh6",
        "outputId": "936f0ca2-c849-4bbf-d299-9e7b2f97f7ce"
      },
      "execution_count": 11,
      "outputs": [
        {
          "output_type": "stream",
          "name": "stdout",
          "text": [
            "[1, 4, 9, 16, 25]\n"
          ]
        }
      ]
    },
    {
      "cell_type": "code",
      "source": [
        "# 4. Write a Python function that checks if a given number is prime or not from 1 to 200.\n",
        "\n",
        "\n",
        "for num in range(1, 201):\n",
        "    if is_prime(num):\n",
        "        print(num)\n",
        "\n",
        "\n"
      ],
      "metadata": {
        "colab": {
          "base_uri": "https://localhost:8080/"
        },
        "id": "FNi8MwYFdy_S",
        "outputId": "b7b6751f-2d72-4dfb-d57c-59e6ac2df677"
      },
      "execution_count": 19,
      "outputs": [
        {
          "output_type": "stream",
          "name": "stdout",
          "text": [
            "2\n",
            "3\n",
            "5\n",
            "7\n",
            "11\n",
            "13\n",
            "17\n",
            "19\n",
            "23\n",
            "29\n",
            "31\n",
            "37\n",
            "41\n",
            "43\n",
            "47\n",
            "53\n",
            "59\n",
            "61\n",
            "67\n",
            "71\n",
            "73\n",
            "79\n",
            "83\n",
            "89\n",
            "97\n",
            "101\n",
            "103\n",
            "107\n",
            "109\n",
            "113\n",
            "127\n",
            "131\n",
            "137\n",
            "139\n",
            "149\n",
            "151\n",
            "157\n",
            "163\n",
            "167\n",
            "173\n",
            "179\n",
            "181\n",
            "191\n",
            "193\n",
            "197\n",
            "199\n"
          ]
        }
      ]
    },
    {
      "cell_type": "code",
      "source": [
        "# 5. Create an iterator class in Python that generates the Fibonacci sequence up to a specified number of terms.\n",
        "\n",
        "\n",
        "# Create an iterator for the first 10 Fibonacci numbers\n",
        "fib = FibonacciIterator(10)\n",
        "\n",
        "# Use the iterator\n",
        "for number in fib:\n",
        "    print(number)\n",
        "\n",
        "\n"
      ],
      "metadata": {
        "colab": {
          "base_uri": "https://localhost:8080/"
        },
        "id": "2fuMhMKUeWHK",
        "outputId": "f8beeb2b-dba8-4055-d8d2-c36a285d7ebf"
      },
      "execution_count": 30,
      "outputs": [
        {
          "output_type": "stream",
          "name": "stdout",
          "text": [
            "0\n",
            "1\n",
            "1\n",
            "2\n",
            "3\n",
            "5\n",
            "8\n",
            "13\n",
            "21\n",
            "34\n"
          ]
        }
      ]
    },
    {
      "cell_type": "code",
      "source": [
        "# 6.  Write a generator function in Python that yields the powers of 2 up to a given exponent.\n",
        "\n",
        "# Generate powers of 2 up to 2^5\n",
        "for power in powers_of_2(5):\n",
        "    print(power)\n"
      ],
      "metadata": {
        "colab": {
          "base_uri": "https://localhost:8080/"
        },
        "id": "nCzGNCWOgGXd",
        "outputId": "26731996-87b4-446b-8372-41dd4d89c84e"
      },
      "execution_count": 41,
      "outputs": [
        {
          "output_type": "stream",
          "name": "stdout",
          "text": [
            "1\n",
            "2\n",
            "4\n",
            "8\n",
            "16\n",
            "32\n"
          ]
        }
      ]
    },
    {
      "cell_type": "code",
      "source": [
        "# 7.  Implement a generator function that reads a file line by line and yields each line as a string.\n",
        "\n",
        "def read_file_line_by_line(file_path):\n",
        "    with open(file_path, 'r') as file:\n",
        "        for line in file:\n",
        "            yield line.strip()  # Strip newline characters for cleaner output\n",
        "\n",
        "file_path = 'example.txt'  # Replace with your file path\n",
        "\n",
        "for line in read_file_line_by_line(file_path):\n",
        "    print(line)\n",
        "\n"
      ],
      "metadata": {
        "colab": {
          "base_uri": "https://localhost:8080/",
          "height": 332
        },
        "id": "xy6dixiNh8I7",
        "outputId": "9cc94af4-0d67-410f-e7a7-7b9716864c3f"
      },
      "execution_count": 44,
      "outputs": [
        {
          "output_type": "error",
          "ename": "FileNotFoundError",
          "evalue": "[Errno 2] No such file or directory: 'example.txt'",
          "traceback": [
            "\u001b[0;31m---------------------------------------------------------------------------\u001b[0m",
            "\u001b[0;31mFileNotFoundError\u001b[0m                         Traceback (most recent call last)",
            "\u001b[0;32m<ipython-input-44-9b481c492165>\u001b[0m in \u001b[0;36m<cell line: 0>\u001b[0;34m()\u001b[0m\n\u001b[1;32m      8\u001b[0m \u001b[0mfile_path\u001b[0m \u001b[0;34m=\u001b[0m \u001b[0;34m'example.txt'\u001b[0m  \u001b[0;31m# Replace with your file path\u001b[0m\u001b[0;34m\u001b[0m\u001b[0;34m\u001b[0m\u001b[0m\n\u001b[1;32m      9\u001b[0m \u001b[0;34m\u001b[0m\u001b[0m\n\u001b[0;32m---> 10\u001b[0;31m \u001b[0;32mfor\u001b[0m \u001b[0mline\u001b[0m \u001b[0;32min\u001b[0m \u001b[0mread_file_line_by_line\u001b[0m\u001b[0;34m(\u001b[0m\u001b[0mfile_path\u001b[0m\u001b[0;34m)\u001b[0m\u001b[0;34m:\u001b[0m\u001b[0;34m\u001b[0m\u001b[0;34m\u001b[0m\u001b[0m\n\u001b[0m\u001b[1;32m     11\u001b[0m     \u001b[0mprint\u001b[0m\u001b[0;34m(\u001b[0m\u001b[0mline\u001b[0m\u001b[0;34m)\u001b[0m\u001b[0;34m\u001b[0m\u001b[0;34m\u001b[0m\u001b[0m\n\u001b[1;32m     12\u001b[0m \u001b[0;34m\u001b[0m\u001b[0m\n",
            "\u001b[0;32m<ipython-input-44-9b481c492165>\u001b[0m in \u001b[0;36mread_file_line_by_line\u001b[0;34m(file_path)\u001b[0m\n\u001b[1;32m      2\u001b[0m \u001b[0;34m\u001b[0m\u001b[0m\n\u001b[1;32m      3\u001b[0m \u001b[0;32mdef\u001b[0m \u001b[0mread_file_line_by_line\u001b[0m\u001b[0;34m(\u001b[0m\u001b[0mfile_path\u001b[0m\u001b[0;34m)\u001b[0m\u001b[0;34m:\u001b[0m\u001b[0;34m\u001b[0m\u001b[0;34m\u001b[0m\u001b[0m\n\u001b[0;32m----> 4\u001b[0;31m     \u001b[0;32mwith\u001b[0m \u001b[0mopen\u001b[0m\u001b[0;34m(\u001b[0m\u001b[0mfile_path\u001b[0m\u001b[0;34m,\u001b[0m \u001b[0;34m'r'\u001b[0m\u001b[0;34m)\u001b[0m \u001b[0;32mas\u001b[0m \u001b[0mfile\u001b[0m\u001b[0;34m:\u001b[0m\u001b[0;34m\u001b[0m\u001b[0;34m\u001b[0m\u001b[0m\n\u001b[0m\u001b[1;32m      5\u001b[0m         \u001b[0;32mfor\u001b[0m \u001b[0mline\u001b[0m \u001b[0;32min\u001b[0m \u001b[0mfile\u001b[0m\u001b[0;34m:\u001b[0m\u001b[0;34m\u001b[0m\u001b[0;34m\u001b[0m\u001b[0m\n\u001b[1;32m      6\u001b[0m             \u001b[0;32myield\u001b[0m \u001b[0mline\u001b[0m\u001b[0;34m.\u001b[0m\u001b[0mstrip\u001b[0m\u001b[0;34m(\u001b[0m\u001b[0;34m)\u001b[0m  \u001b[0;31m# Strip newline characters for cleaner output\u001b[0m\u001b[0;34m\u001b[0m\u001b[0;34m\u001b[0m\u001b[0m\n",
            "\u001b[0;31mFileNotFoundError\u001b[0m: [Errno 2] No such file or directory: 'example.txt'"
          ]
        }
      ]
    },
    {
      "cell_type": "code",
      "source": [
        "# 8. Use a lambda function in Python to sort a list of tuples based on the second element of each tuple.\n",
        "\n",
        "# List of tuples\n",
        "tuples = [(1, 5), (3, 2), (4, 8), (2, 6)]\n",
        "\n",
        "# Sort the list of tuples based on the second element of each tuple\n",
        "sorted_tuples = sorted(tuples, key=lambda x: x[1])\n",
        "\n",
        "print(sorted_tuples)\n"
      ],
      "metadata": {
        "colab": {
          "base_uri": "https://localhost:8080/"
        },
        "id": "qT9llKo-iV7-",
        "outputId": "b007b40c-a3c5-4155-f362-197440b344ba"
      },
      "execution_count": 45,
      "outputs": [
        {
          "output_type": "stream",
          "name": "stdout",
          "text": [
            "[(3, 2), (1, 5), (2, 6), (4, 8)]\n"
          ]
        }
      ]
    },
    {
      "cell_type": "code",
      "source": [
        "# 9. Write a Python program that uses `map()` to convert a list of temperatures from Celsius to Fahrenheit.\n",
        "\n",
        "# List of temperatures in Celsius\n",
        "celsius_temperatures = [0, 20, 30, 40, 100]\n",
        "\n",
        "# Function to convert Celsius to Fahrenheit\n",
        "def celsius_to_fahrenheit(celsius):\n",
        "    return (celsius * 9/5) + 32\n",
        "\n",
        "# Use map() to apply the conversion function to each temperature\n",
        "fahrenheit_temperatures = list(map(celsius_to_fahrenheit, celsius_temperatures))\n",
        "\n",
        "# Print the converted temperatures\n",
        "print(fahrenheit_temperatures)\n"
      ],
      "metadata": {
        "colab": {
          "base_uri": "https://localhost:8080/"
        },
        "id": "CkF21gOiirCV",
        "outputId": "c7dfb144-265a-4721-e418-e7a36806fb60"
      },
      "execution_count": 46,
      "outputs": [
        {
          "output_type": "stream",
          "name": "stdout",
          "text": [
            "[32.0, 68.0, 86.0, 104.0, 212.0]\n"
          ]
        }
      ]
    },
    {
      "cell_type": "code",
      "source": [
        "# 10.  Create a Python program that uses `filter()` to remove all the vowels from a given string.\n",
        "\n",
        "# Function to check if a character is a vowel\n",
        "def is_not_vowel(char):\n",
        "    return char.lower() not in 'aeiou'\n",
        "\n",
        "# Given string\n",
        "input_string = \"Hello World\"\n",
        "\n",
        "# Use filter() to remove vowels\n",
        "filtered_string = ''.join(filter(is_not_vowel, input_string))\n",
        "\n",
        "# Print the resulting string\n",
        "print(filtered_string)\n"
      ],
      "metadata": {
        "colab": {
          "base_uri": "https://localhost:8080/"
        },
        "id": "dkT9WNyWi4d7",
        "outputId": "b76e04f8-528b-40b8-fe28-c7d88fc3b9e6"
      },
      "execution_count": 47,
      "outputs": [
        {
          "output_type": "stream",
          "name": "stdout",
          "text": [
            "Hll Wrld\n"
          ]
        }
      ]
    },
    {
      "cell_type": "code",
      "source": [
        "# 11. Write a Python program, which returns a list with 2-tuples. Each tuple consists of the order number and the\n",
        "#product of the price per item and the quantity. The product should be increased by 10,- Euro if the value of the\n",
        "#order is smaller than 100,00 Euro.\n",
        "\n",
        "#Write a Python program using lambda and map.\n",
        "\n",
        "\n",
        "\n",
        "# List of orders as (order_number, price_per_item, quantity)\n",
        "orders = [\n",
        "    (34587, 40.95, 4),  # Order 34587: Price per item = 40.95, Quantity = 4\n",
        "    (98762, 56.80, 5),  # Order 98762: Price per item = 56.80, Quantity = 5\n",
        "    (77226, 32.95, 3),  # Order 77226: Price per item = 32.95, Quantity = 3\n",
        "    (88112, 24.99, 3),   # Order 88112: Price per item = 24.99, Quantity = 3\n",
        "]\n",
        "\n",
        "# Function to calculate the total order value and apply the 10€ increase if needed\n",
        "def calculate_order(order):\n",
        "    order_number, price, quantity = order\n",
        "    total = price * quantity\n",
        "    if total < 100:\n",
        "        total += 10  # Increase by 10€ if the total is smaller than 100\n",
        "    return (order_number, total)\n",
        "\n",
        "# Use map() with a lambda to process each order\n",
        "result = list(map(lambda order: calculate_order(order), orders))\n",
        "\n",
        "# Print the result\n",
        "print(result)\n"
      ],
      "metadata": {
        "colab": {
          "base_uri": "https://localhost:8080/"
        },
        "id": "AlMQJy7Wjk2P",
        "outputId": "37333dc2-94c8-4f9d-adc5-73ad6366ba94"
      },
      "execution_count": 58,
      "outputs": [
        {
          "output_type": "stream",
          "name": "stdout",
          "text": [
            "[(34587, 163.8), (98762, 284.0), (77226, 108.85000000000001), (88112, 84.97)]\n"
          ]
        }
      ]
    }
  ]
}